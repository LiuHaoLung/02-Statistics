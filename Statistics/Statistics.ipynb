{
 "cells": [
  {
   "cell_type": "markdown",
   "metadata": {},
   "source": [
    "# Statistics"
   ]
  },
  {
   "cell_type": "markdown",
   "metadata": {},
   "source": [
    "### Some key definitions\n",
    "___\n",
    "\n",
    "#### Ther first step is determine whether the data you are dealing with:\n",
    "    \n",
    "1. Population.\n",
    "\n",
    "2. Sample.\n",
    "___\n",
    "\n",
    "#### The different of Population vs Sample:\n",
    "\n",
    "Population                                         |Sample\n",
    "---                                                |---\n",
    "collection of all items of interest to study       |a subset of population\n",
    "denote with ***N***                                |denote with ***n*** \n",
    "when using population are called parameters        |when using sample are called statistics\n",
    "hard to observe                                    |easy to observe\n",
    "hard to contact                                    |easy to contact\n",
    "hard to define                                     |easy to define\n",
    "costly                                             |less costly\n",
    "\n",
    "___\n",
    "\n",
    "#### Statistics do ?\n",
    "\n",
    "So it will almost always be working with sample data and make data driven decisiona and inferences based on sample data.\n",
    "\n",
    "The statistics are usually based on sample data, so sample data are key to accuracy statistics insights.\n",
    "___\n",
    "\n",
    "#### The sample data characteristics:\n",
    "\n",
    "The sample must be both random and representative for an insight to be precise.\n",
    "\n",
    "Randomness                       |Representativeness\n",
    "---                              |---\n",
    "A random sample is collected when each member of sample is chosen form the population strictly by chance.|A representative sample is a subset of the population that accurately reflects the member of the entire population."
   ]
  },
  {
   "cell_type": "code",
   "execution_count": null,
   "metadata": {},
   "outputs": [],
   "source": []
  }
 ],
 "metadata": {
  "kernelspec": {
   "display_name": "Python 3",
   "language": "python",
   "name": "python3"
  },
  "language_info": {
   "codemirror_mode": {
    "name": "ipython",
    "version": 3
   },
   "file_extension": ".py",
   "mimetype": "text/x-python",
   "name": "python",
   "nbconvert_exporter": "python",
   "pygments_lexer": "ipython3",
   "version": "3.7.4"
  }
 },
 "nbformat": 4,
 "nbformat_minor": 2
}
