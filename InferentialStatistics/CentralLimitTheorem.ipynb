{
 "cells": [
  {
   "cell_type": "markdown",
   "metadata": {},
   "source": [
    "# Central Limit Theorem"
   ]
  },
  {
   "cell_type": "markdown",
   "metadata": {},
   "source": [
    "Example we want to analyze the car prices and be able to make some predictions of them.\n",
    "\n",
    "The whole cars information are population, but normally in statistics we would not have data on the whole population but rather just a sample.\n",
    "\n",
    "Let just draw a sample out of the data:\n",
    "\n",
    "Sample     |Mean\n",
    "---        |---\n",
    "Sample1    |2,617.23\n",
    "Sample2    |3,201.34\n",
    "Sample3    |2,844.33\n",
    "\n",
    "It can know if take another sample, it may get a completely different mean, so the sample mean depends on the incumbents of the sample itself, so taking a single value as we did in descriptive statistics is definitely suboptimal.\n",
    "\n",
    "So we can do is draw many many samples and create a new dataset comprised of sample means, these values are distribution in some way, so we have a distribution.\n",
    "\n",
    "The means maybe are: <code>2521.49, 2551.55, 2568.22, 2594.64, 2617.23, 2620.85, 2623.52, 2661.13, 2685.27, 2687.14, 2711.35, 2744.97, 2748.44, 2786.31, 2804.12, 2804.30, 2843.80, 2844.33, 2844.82, 2691.87, 3030.01, 3201.34, 3248.88.</code>\n",
    "\n",
    "When we referring to a distribution formed by samples, we used the term a sample distribution.\n",
    "\n",
    "If we inspect these values closely we will realize that they are different but are concentrated around a certain value <code>2800.</code>\n",
    "\n",
    "Since each of there sample means are nothing but approximations of the population mean, the value revolve around is actually the population mean itself.\n",
    "\n",
    "If we visualize the distribution of the sampling means, it get something else, it will be a normal distributin and it is the central limit theorem.\n",
    "\n",
    "No matter the underlying distribution, the sampling distribution approximates a normal, not only that but the mean is the same as the population mean.\n",
    "\n",
    "The variance is depends on the size of the samples we draw but it is quite elegant, it is the population variance divided by the sample size since the sample size is in the denominator.\n",
    "\n",
    "The bigger the sample size, the lower variance or in other words the close the approximation we get.\n",
    "\n",
    "Usually the central limit theorem to apply, we need a sample size of at least 30 observations.\n",
    "\n",
    "The normal distirbution has elegant statistics and an unmatced applicability in calculating confidence intervals and performing tests.\n",
    "\n",
    "The central limit theorem allows us to perform tests, solve problem and make inferences using the normal distribution, even when the population is not normal distribution."
   ]
  },
  {
   "cell_type": "code",
   "execution_count": null,
   "metadata": {},
   "outputs": [],
   "source": []
  }
 ],
 "metadata": {
  "kernelspec": {
   "display_name": "Python 3",
   "language": "python",
   "name": "python3"
  },
  "language_info": {
   "codemirror_mode": {
    "name": "ipython",
    "version": 3
   },
   "file_extension": ".py",
   "mimetype": "text/x-python",
   "name": "python",
   "nbconvert_exporter": "python",
   "pygments_lexer": "ipython3",
   "version": "3.7.4"
  }
 },
 "nbformat": 4,
 "nbformat_minor": 2
}
