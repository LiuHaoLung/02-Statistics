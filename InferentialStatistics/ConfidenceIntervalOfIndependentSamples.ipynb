{
 "cells": [
  {
   "cell_type": "markdown",
   "metadata": {},
   "source": [
    "# Confidence Interval Of Independent Samples"
   ]
  },
  {
   "cell_type": "markdown",
   "metadata": {},
   "source": [
    "The confidence interval of independent samples have three subcase:\n",
    "\n",
    "1. Known population variances.\n",
    "2. Unknown population variances but assumed to be equal\n",
    "3. Unknown population variances but assumed to be different."
   ]
  },
  {
   "cell_type": "markdown",
   "metadata": {},
   "source": [
    "#### known population variances\n",
    "\n",
    "Example we would like to test the grades of two departments in a UK university, this samples are taken from two department, engineering and management.\n",
    "\n",
    "The summarizes the data table is below:\n",
    "\n",
    "Type            |Engineering       |Management\n",
    "---             |---               |---\n",
    "Size            |100               |70\n",
    "Sample mean     |58                |65\n",
    "Population std  |10                |5\n",
    "\n",
    "From past years, we know that populatiom std is 10% and 5% points, thus the variance is known.\n",
    "\n",
    "Before calculate, there are 3 considerations:\n",
    "\n",
    "1. The population are normally distributied.\n",
    "2. The population variance are known.\n",
    "3. The sample sizes are different.\n",
    "\n",
    "The engineering and management are total different:\n",
    "\n",
    "1. Different departmenst.\n",
    "2. Different teachers.\n",
    "3. Different grades.\n",
    "4. Different exams.\n",
    "\n",
    "Under this different, we know the two samples are truly independent.\n",
    "\n",
    "Problem: we want to find a 95% confidence interval for the different between the grades of the students from engineering and management.\n",
    "\n",
    "Identify the test statistic is:\n",
    "\n",
    "1. Sample are big.\n",
    "2. Population variances are known.\n",
    "3. Population are assumed to follow the normal distribution.\n",
    "\n",
    "So in this considerations, we need use the Z-score.\n",
    "\n",
    "The variance of the difference between the two means is the engineering's variance / the engineering's sample size + the management's variance / the management's sample size = <code>10^2 / 100 + 5^2 / 70 = 1.36</code> and the 95% Z-score is 1.96.\n",
    "\n",
    "The new summarizes the data table is below:\n",
    "\n",
    "Type            |Engineering(x)       |Management(y)     |Difference(x - y)\n",
    "---             |---                  |---               |---\n",
    "Size            |100                  |70                |?\n",
    "Sample mean     |58                   |65                |-7.0\n",
    "Population std  |10                   |5                 |1.16(std error)\n",
    "\n",
    "The confidence interval formula is <code>(x - y) +- Zα/2*(std error) = -7.0 +- 1.96 * 1.16 = (-9.28, -4.72).</code>\n",
    "\n",
    "Takeaways:\n",
    "\n",
    "1. We are 95% confidence that the true mean difference between engineering and management grades falls into this interval.\n",
    "2. The whole interval is negative, this means we were calculating engineering grade - management grade as the engineers were consistently getting lower grades, so the difference is negative.\n",
    "3. So had we calculated difference as management - engineering, we would get a confidence interval (4.72,9.28)."
   ]
  },
  {
   "cell_type": "code",
   "execution_count": null,
   "metadata": {},
   "outputs": [],
   "source": []
  }
 ],
 "metadata": {
  "kernelspec": {
   "display_name": "Python 3",
   "language": "python",
   "name": "python3"
  },
  "language_info": {
   "codemirror_mode": {
    "name": "ipython",
    "version": 3
   },
   "file_extension": ".py",
   "mimetype": "text/x-python",
   "name": "python",
   "nbconvert_exporter": "python",
   "pygments_lexer": "ipython3",
   "version": "3.7.4"
  }
 },
 "nbformat": 4,
 "nbformat_minor": 2
}
