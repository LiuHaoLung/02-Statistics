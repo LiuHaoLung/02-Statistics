{
 "cells": [
  {
   "cell_type": "markdown",
   "metadata": {},
   "source": [
    "# Confidence Intervals"
   ]
  },
  {
   "cell_type": "markdown",
   "metadata": {},
   "source": [
    "A condidence interval is much more accurate representation of reality, however there is still more uncertainty left which we measure in levels of confidence.\n",
    "\n",
    "It can't never be 100% confidence unless you go through the entire population, so there is 5% chance that the population parameter is outside the range, this outside the range, we will observe that if the sample we have considered deviates significantly from the entire population.\n",
    "\n",
    "The level of confidence it is denoted by <code>1-α</code> and it is called the confidence level of the interval.\n",
    "\n",
    "This <code>α</code> is between 0 and 1, that means <code>0 <= α <= 1</code>, so if we want to be 95% confidence that the parameter is inside the interval, the <code>α</code> is 5%.\n",
    "\n",
    "The confidence interval formula is <code>[point estimate - (reliability factor * standard error),point estimate + (reliability factor * standard error)]</code>."
   ]
  },
  {
   "cell_type": "code",
   "execution_count": null,
   "metadata": {},
   "outputs": [],
   "source": []
  }
 ],
 "metadata": {
  "kernelspec": {
   "display_name": "Python 3",
   "language": "python",
   "name": "python3"
  },
  "language_info": {
   "codemirror_mode": {
    "name": "ipython",
    "version": 3
   },
   "file_extension": ".py",
   "mimetype": "text/x-python",
   "name": "python",
   "nbconvert_exporter": "python",
   "pygments_lexer": "ipython3",
   "version": "3.7.4"
  }
 },
 "nbformat": 4,
 "nbformat_minor": 2
}
