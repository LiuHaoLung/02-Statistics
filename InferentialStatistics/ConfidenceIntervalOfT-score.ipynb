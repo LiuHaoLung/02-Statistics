{
 "cells": [
  {
   "cell_type": "markdown",
   "metadata": {},
   "source": [
    "# Confidence Interval Of T-score"
   ]
  },
  {
   "cell_type": "markdown",
   "metadata": {},
   "source": [
    "Student's T distribution:\n",
    "\n",
    "Extract a small sample but still come up with meaningful predictions.\n",
    "\n",
    "It can inference through small samples with an unknown population variance, this setting can be applied to a big part of statistical problem.\n",
    "\n",
    "It is looks much like a normal distribution but generally has fatter tails.\n",
    "\n",
    "Fatter tails allows for a higher dispersion of variables and there is more uncertainty.\n",
    "\n",
    "The t statistic is related to the Student's T distribution.\n",
    "\n",
    "The formula is <code>t(n-1,α) = (x̄ - μ) / (s / (n^0.5))</code>, it is has a degrees of freedom, that means n-1, denoted by <code>d.f.</code>.\n",
    "\n",
    "It also have t table, the row indicate different degrees of freedom, the columns is <code>α.</code>\n",
    "\n",
    "After the 30 row the numbers don't vary that much, actually after 30 degrees of freedom the t table becomes almost the same as the z statistic.\n",
    "\n",
    "The bigger the sample, the closer we get to the actual numbers, a common rule of thumb is that for a sample containing more than 50 observations we use the Z table instead of the t table.\n",
    "___\n",
    "\n",
    "Example are wondering how much the mean salary is, this time through you don't have the population variance and the confidence interval is 95%.\n",
    "\n",
    "The dataset table is below:\n",
    "\n",
    "ID    |Salary\n",
    "---   |---\n",
    "1     |78000\n",
    "2     |90000\n",
    "3     |75000\n",
    "4     |117000\n",
    "5     |105000\n",
    "6     |96000\n",
    "7     |89500\n",
    "8     |102300\n",
    "9     |80000\n",
    "\n",
    "The other information is below:\n",
    "\n",
    "Type                      |value\n",
    "---                       |---\n",
    "Sample mean               |92533\n",
    "Sample standard deviation |13932\n",
    "Standard error            |4644\n",
    "\n",
    "When the population variance is unknown and the sample size is small, it will use the Student's T distribution.\n",
    "\n",
    "Here is the formula that allows us to find the confidence interval: <code>x̄ +- t(n-1,α/2) * (S / n^0.5).</code>\n",
    "\n",
    "The degrees of freedom is <code>9 - 1 = 8</code> and the <code>α = 5%</code>, that means <code>α / 2 = 0.025</code>, use this value and find the value in the t table, we can know <code>t(8,0.025) = 2.31.</code>\n",
    "\n",
    "So the confidence interval is <code>92533 +- 2.31 * 4644 = (81806,103261).</code>\n",
    "\n",
    "The population variance is known confidence interval is <code>(94833,105568).</code>\n",
    "\n",
    "The unknown width is 21455, the known width is 10735, so when we know the population variance we get a narrower confidenct interval(10735).\n",
    "\n",
    "So when we don't know the population variance we can still make predictions but they will be less accurate."
   ]
  },
  {
   "cell_type": "code",
   "execution_count": null,
   "metadata": {},
   "outputs": [],
   "source": []
  }
 ],
 "metadata": {
  "kernelspec": {
   "display_name": "Python 3",
   "language": "python",
   "name": "python3"
  },
  "language_info": {
   "codemirror_mode": {
    "name": "ipython",
    "version": 3
   },
   "file_extension": ".py",
   "mimetype": "text/x-python",
   "name": "python",
   "nbconvert_exporter": "python",
   "pygments_lexer": "ipython3",
   "version": "3.7.4"
  }
 },
 "nbformat": 4,
 "nbformat_minor": 2
}
