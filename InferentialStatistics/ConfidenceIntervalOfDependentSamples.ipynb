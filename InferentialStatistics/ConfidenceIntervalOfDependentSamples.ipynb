{
 "cells": [
  {
   "cell_type": "markdown",
   "metadata": {},
   "source": [
    "# Confidence Interval Of Dependent Samples"
   ]
  },
  {
   "cell_type": "markdown",
   "metadata": {},
   "source": [
    "Example for 10 peopel and there are levels of magnesium before and after taking the pill for some times.\n",
    "\n",
    "Patient     |Before    |After    |Difference\n",
    "---         |---       |---      |---\n",
    "1           |2.0       |1.7      |-0.3\n",
    "2           |1.4       |1.7      |0.3\n",
    "3           |1.3       |1.8      |0.5\n",
    "4           |1.1       |1.3      |0.2\n",
    "5           |1.8       |1.7      |-0.1\n",
    "6           |1.6       |1.5      |-0.1\n",
    "7           |1.5       |1.6      |0.1\n",
    "8           |0.7       |1.7      |1\n",
    "9           |0.9       |1.7      |0.8\n",
    "10          |1.5       |2.4      |0.9\n",
    "\n",
    "Instead of dealing with two variables, we now have only one, in this way, the data looks as a single population.\n",
    "\n",
    "Calculate the Difference mean and std:\n",
    "\n",
    "Type          |Values\n",
    "---           |---\n",
    "Mean          |0.33\n",
    "St. deviation |0.45\n",
    "\n",
    "We know the sample size is 10 and the population is normal distribution, so it will use t-score.\n",
    "\n",
    "95% confidence interval is one of the most common ones and so we will use it.\n",
    "\n",
    "Calculate the Difference mean, std and the t-score:\n",
    "\n",
    "Type          |Values\n",
    "---           |---\n",
    "Mean          |0.33\n",
    "St. deviation |0.45\n",
    "t-score       |2.262\n",
    "\n",
    "So the confidence interval is <code>0.33 +- 2.26 * (0.45 / 10^0.5) = (0.01,0.65)</code>, so in 95% of the cases, the true mean will fall in this interval and the whole interval is positive, this shows the true mean of the difference is definitely positive and the levels of Mg in the test subject's blood is higher, so based on our small sample, the pill is effective."
   ]
  },
  {
   "cell_type": "code",
   "execution_count": null,
   "metadata": {},
   "outputs": [],
   "source": []
  }
 ],
 "metadata": {
  "kernelspec": {
   "display_name": "Python 3",
   "language": "python",
   "name": "python3"
  },
  "language_info": {
   "codemirror_mode": {
    "name": "ipython",
    "version": 3
   },
   "file_extension": ".py",
   "mimetype": "text/x-python",
   "name": "python",
   "nbconvert_exporter": "python",
   "pygments_lexer": "ipython3",
   "version": "3.7.4"
  }
 },
 "nbformat": 4,
 "nbformat_minor": 2
}
