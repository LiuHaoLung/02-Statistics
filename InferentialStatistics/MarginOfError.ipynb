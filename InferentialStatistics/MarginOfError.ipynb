{
 "cells": [
  {
   "cell_type": "markdown",
   "metadata": {},
   "source": [
    "# Margin Of Error"
   ]
  },
  {
   "cell_type": "markdown",
   "metadata": {},
   "source": [
    "When population variance is known, the margin of error is <code>x̄+-(Zα/2 * σ / n^0.5)</code>, the population variance is unknown, the margin of error is <code>t(n-1,α) = (x̄ - μ) / (s / (n^0.5))</code>.\n",
    "\n",
    "The true populatiom mean falls in the interval defined by the <code>x̄ +- margin of error(ME)</code>.\n",
    "\n",
    "Getting a smaller margin of error means that the confidence interval would be narrower as we want a better prediction, it is in our interest to have the narrowest possible confidence interval.\n",
    "\n",
    "We can control margin of error, there is a statistic(like Z-score, t-score), the standard deviation and the sample size.\n",
    "\n",
    "The statistic and the standard deviation are in the numerator, so smaller statistic and smaller standard deviation will reduce the margin of error.\n",
    "\n",
    "Higher sample sizes will decrease the margin of error and the confidence interval will decrease, the more observations there are in the sample, the higher the chances of getting a good idea about the true mean of the entire population."
   ]
  }
 ],
 "metadata": {
  "kernelspec": {
   "display_name": "Python 3",
   "language": "python",
   "name": "python3"
  },
  "language_info": {
   "codemirror_mode": {
    "name": "ipython",
    "version": 3
   },
   "file_extension": ".py",
   "mimetype": "text/x-python",
   "name": "python",
   "nbconvert_exporter": "python",
   "pygments_lexer": "ipython3",
   "version": "3.7.4"
  }
 },
 "nbformat": 4,
 "nbformat_minor": 2
}
