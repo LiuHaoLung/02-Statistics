{
 "cells": [
  {
   "cell_type": "markdown",
   "metadata": {},
   "source": [
    "# Estimators & Estimates"
   ]
  },
  {
   "cell_type": "markdown",
   "metadata": {},
   "source": [
    "It is an approximation depending solely on sample information, a specific value is called an estimate.\n",
    "\n",
    "There are two types of estimates, point estimates and confidence interval estimates. \n",
    "\n",
    "A point estimates is a single number, a confidence interval estimates naturally is an interval.\n",
    "\n",
    "In fact the point estimate is located exactly in the middle of the confidence interval.\n",
    "\n",
    "Confidence intervals provide much more information and preferred when making inferences.\n",
    "\n",
    "Point estimators and estimates:\n",
    "\n",
    "Estimator                   |Parameter         |Estimate\n",
    "---                         |---               |---\n",
    "How to Estimate             |What to estimate  |Concrete result\n",
    "<code>***x̄***</code>        |<code>***μ***</code>           |52.22(example)\n",
    "<code>***s²***</code>       |<code>***σ²***</code>          |1724.93(example)\n",
    "\n",
    "\n",
    "* The sample <code>x̄</code> is a point estimate of the population <code>μ.</code>\n",
    "* The sample variance <code>s²</code> is a point estimate of the population <code>σ².</code>\n",
    "\n",
    "There may be many estimators for the same variable, however they all have two properties, efficiency and bias.\n",
    "\n",
    "We are always looking for the most efficient unbiased estimators and unbiased estimator has an expected value equal to the population parameter.\n",
    "\n",
    "The most efficient estimator is the unbiased estimator with smallest variance."
   ]
  },
  {
   "cell_type": "code",
   "execution_count": null,
   "metadata": {},
   "outputs": [],
   "source": []
  }
 ],
 "metadata": {
  "kernelspec": {
   "display_name": "Python 3",
   "language": "python",
   "name": "python3"
  },
  "language_info": {
   "codemirror_mode": {
    "name": "ipython",
    "version": 3
   },
   "file_extension": ".py",
   "mimetype": "text/x-python",
   "name": "python",
   "nbconvert_exporter": "python",
   "pygments_lexer": "ipython3",
   "version": "3.7.4"
  }
 },
 "nbformat": 4,
 "nbformat_minor": 2
}
