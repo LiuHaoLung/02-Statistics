{
 "cells": [
  {
   "cell_type": "markdown",
   "metadata": {},
   "source": [
    "# Distribution"
   ]
  },
  {
   "cell_type": "markdown",
   "metadata": {},
   "source": [
    "In statistics when we use distribution we usually mean a probability distribution.\n",
    "\n",
    "Distribution is a function that shows the possible values for a variable and how often they occur.\n",
    "\n",
    "The distribution of an event consists not only of the input values that can be observed but is made up of all possible values.\n",
    "\n",
    "A distribution is not a graph itself, the graph is just a visual representation.\n",
    "___\n",
    "\n",
    "Normal distribution and Student's T distribution thatv they approximate a wide variety of random variables.\n",
    "\n",
    "Distribution of sample means with large enough sample size could be approximated to normal.\n",
    "\n",
    "All computable statics are elegent, decisions based on normal distribution insights have a good track record.\n",
    "___\n",
    "\n",
    "Every distribution can be standardized, the standardizd is the process of transforming this variable to mean = 0 and standard deviation = 1, the standardized variable is called the z-score."
   ]
  }
 ],
 "metadata": {
  "kernelspec": {
   "display_name": "Python 3",
   "language": "python",
   "name": "python3"
  },
  "language_info": {
   "codemirror_mode": {
    "name": "ipython",
    "version": 3
   },
   "file_extension": ".py",
   "mimetype": "text/x-python",
   "name": "python",
   "nbconvert_exporter": "python",
   "pygments_lexer": "ipython3",
   "version": "3.7.4"
  }
 },
 "nbformat": 4,
 "nbformat_minor": 2
}
