{
 "cells": [
  {
   "cell_type": "markdown",
   "metadata": {},
   "source": [
    "# Confidence Interval Clarifications"
   ]
  },
  {
   "cell_type": "markdown",
   "metadata": {},
   "source": [
    "The confidence interval have is the lower limit and upper limit.\n",
    "\n",
    "A 95% confidence interval would imply we are 95% confidence the true population mean falls within this interval.\n",
    "\n",
    "There are 2.5% chance that <code>μ</code> will be on the left of the lower limit and 2.5% chance that <code>μ</code> will be on the right of the upper limit, overall the 5% chance that our confidence interval doesn't contain the true population mean.\n",
    "\n",
    "For standard normal distribution, the mean is 0, for 95% confidence interval and using z table we can find that these limit are -1.96 and 1.96.\n",
    "\n",
    "When the confidence is lower the confidenct interval isself is smaller, similarly for 99% confidence interval we would have a higher confidence but a much larger confidence interval.\n",
    "\n",
    "95% is the accepted norm, as we don't compromise with accuracy too much, but still get a relatively narrow interval."
   ]
  }
 ],
 "metadata": {
  "kernelspec": {
   "display_name": "Python 3",
   "language": "python",
   "name": "python3"
  },
  "language_info": {
   "codemirror_mode": {
    "name": "ipython",
    "version": 3
   },
   "file_extension": ".py",
   "mimetype": "text/x-python",
   "name": "python",
   "nbconvert_exporter": "python",
   "pygments_lexer": "ipython3",
   "version": "3.7.4"
  }
 },
 "nbformat": 4,
 "nbformat_minor": 2
}
