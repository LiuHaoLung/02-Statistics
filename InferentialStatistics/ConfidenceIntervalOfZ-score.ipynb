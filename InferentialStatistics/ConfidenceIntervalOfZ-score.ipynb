{
 "cells": [
  {
   "cell_type": "markdown",
   "metadata": {},
   "source": [
    "# Confidence Interval Of Z-score"
   ]
  },
  {
   "cell_type": "markdown",
   "metadata": {},
   "source": [
    "A confidence interval is the range within you expect the population parameter to be and it is estimation is based on the data we have in our sample.\n",
    "\n",
    "There can be two main situations when we calculate the confidence intervals for a population when the population variance is known and when it is unknown, depending on which situation we are in we would use a different calculation method.\n",
    "\n",
    "When explore the confidence intervals for a population with known variance and important assumption in this calculation is that the population is normally distribution, even if it not, you should use a large sample and let the CLT do the normalization.\n",
    "\n",
    "Common confidence level is 90%, 95%, 99%, so the <code>α</code> is 10%, 5%, 1%.\n",
    "\n",
    "A 95% confidence interval means that you are sure that in 95% of the cases, the true population parameter would fall into the specified interva.\n",
    "___\n",
    "\n",
    "Example you're interested in the salary you're going to get, imgine you have certain information that the population standard deviation of salaries is 15000 and this data is normal distribution and the sample consists of 30 data and the confidenct interval is 95%.\n",
    "\n",
    "So the formula for the confidence interval with a known variance is given below <code>[x̄ - (Zα/2 * σ / n^0.5),x̄ + (Zα/2 * σ / n^0.5)].</code>\n",
    "\n",
    "<code>x̄</code> means the sample means and it is the point estimate, <code>σ / n^0.5</code> means the standard error.\n",
    "\n",
    "Type              |value\n",
    "---               |---\n",
    "Sample mean       |100200\n",
    "Population std    |15000\n",
    "Standard error    |2739\n",
    "\n",
    "The <code>Z of σ</code> comes from the so-called standard normal distribution table is below:\n",
    "\n",
    "Z      |0       |0.01      |0.02     |0.03     |0.04    |0.05    |0.06\n",
    "---    |---     |---       |---      |---      |---     |---     |---\n",
    "0.0    |0.5     |0.504     |0.508    |0.5120   |0.5160  |0.5199  |0.5329\n",
    "0.1    |0.5398  |0.5438    |0.5478   |0.5517   |0.5557  |0.5596  |0.5636\n",
    ".      |.       |.         |.        |.        |.       |.       |.\n",
    ".      |.       |.         |.        |.        |.       |.       |.\n",
    ".      |.       |.         |.        |.        |.       |.       |.\n",
    ".      |.       |.         |.        |.        |.       |.       |.\n",
    ".      |.       |.         |.        |.        |.       |.       |.\n",
    "1.9    |0.9713  |0.9719    |0.9726   |0.9732   |0.9738  |0.9744  |0.9750\n",
    "\n",
    "So if the confidenct interval is 95%, the <code>σ = 0.05, α/2 = 0.025, Z0.025 = 1 - 0.025 = 0.975</code>, find the z table we can find 0.975, so the <code>Z0.025 = 1.9 + 0.06 = 1.96.</code> and this value is critical value.\n",
    "\n",
    "All the values filled into the formula, the final confidence interval becomes <code>[100200 - (1.96*2739),100200 + (1.96*2739)] = [94833,105568]</code>\n",
    "\n",
    "The interpretation is the following we have 95% confidence that the average salary will be int the interval [94833,105568].\n",
    "\n",
    "If the <code>Zα/2</code> value can't find into the z table, just have to round to the nearest value, so if the σ = 0.01, the <code>Z0.005 = 1 - 0.005 = 0.995</code>, the value 0.995 isn't find in the z table, so round the z table value."
   ]
  },
  {
   "cell_type": "code",
   "execution_count": null,
   "metadata": {},
   "outputs": [],
   "source": []
  }
 ],
 "metadata": {
  "kernelspec": {
   "display_name": "Python 3",
   "language": "python",
   "name": "python3"
  },
  "language_info": {
   "codemirror_mode": {
    "name": "ipython",
    "version": 3
   },
   "file_extension": ".py",
   "mimetype": "text/x-python",
   "name": "python",
   "nbconvert_exporter": "python",
   "pygments_lexer": "ipython3",
   "version": "3.7.4"
  }
 },
 "nbformat": 4,
 "nbformat_minor": 2
}
