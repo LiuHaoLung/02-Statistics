{
 "cells": [
  {
   "cell_type": "markdown",
   "metadata": {},
   "source": [
    "# Hypothesis"
   ]
  },
  {
   "cell_type": "markdown",
   "metadata": {},
   "source": [
    "Confidence interval provide us with an estimation of where the parameter are located, that mean in x% of the cases, the true parameter will fall in the confidence interval.\n",
    "\n",
    "However when you are making a decision you need a yes or no answer, the correct approach in this case is to use a test.\n",
    "\n",
    "There are four steps in data-driven decision making:\n",
    "\n",
    "1. Formulat a hypothesis.\n",
    "2. Find the right test for the hypothesis.\n",
    "3. Execute the test.\n",
    "4. Make a decision.\n",
    "\n",
    "Hypothesis is an idea that can be tested.\n",
    "\n",
    "Example if I tell that apples in NY are expensive, this is an idea or a statement but it not testable until I have something to compare it with.\n",
    "\n",
    "So if I define expensive as any price higher than a 1.75 then it immediately becomes a hypothesis.\n",
    "\n",
    "If there is no data can be tested, it will never be a hypothesis.\n",
    " \n",
    "Example in glassdoor the mean of the data scientist salary in US is 113000, we want to test their estimate is correct, there are two hypothesis we made:\n",
    "\n",
    "Hypothesis              |Notation\n",
    "---                     |---\n",
    "Null hypothesis         |h0\n",
    "Alternative hypothesis  |h1 or hA\n",
    "\n",
    "The Null hypothesis is one to be tested and the Alternative hypothesis is everything else.\n",
    "\n",
    "In our sample, the Null hypothesis would be the mean data scientist salary is 113000, the Alternative hypothesis would be the mean data scientist salary is not 113000.\n",
    "\n",
    "You would want to check if 113000 is close enough to the true mean predicted by our sample, in case it is you would accept the Null hypothesis otherwise you would reject the Null hypothesis.\n",
    "\n",
    "The Null hypothesis is the statement we are trying to rehject, therefore the null is the present state of affairs while the alternative is our personal option."
   ]
  }
 ],
 "metadata": {
  "kernelspec": {
   "display_name": "Python 3",
   "language": "python",
   "name": "python3"
  },
  "language_info": {
   "codemirror_mode": {
    "name": "ipython",
    "version": 3
   },
   "file_extension": ".py",
   "mimetype": "text/x-python",
   "name": "python",
   "nbconvert_exporter": "python",
   "pygments_lexer": "ipython3",
   "version": "3.7.4"
  }
 },
 "nbformat": 4,
 "nbformat_minor": 2
}
