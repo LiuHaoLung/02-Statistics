{
 "cells": [
  {
   "cell_type": "markdown",
   "metadata": {},
   "source": [
    "# p-value"
   ]
  },
  {
   "cell_type": "markdown",
   "metadata": {},
   "source": [
    "This is the most common way to test hypothesis instead of testing it pre-assigned levels of significance.\n",
    "\n",
    "p-value is the smallest level of significance at which we can still reject the null hypothesis, given the observed sample statistic.\n",
    "\n",
    "Example for salary, the information is below:\n",
    "\n",
    "Type              |Value\n",
    "---               |---\n",
    "Sample mean       |100200\n",
    "Population std    |15000\n",
    "standard error    |2739\n",
    "Sample size       |30\n",
    "z-score           |-4.67\n",
    "\n",
    "At this example, we reject the null hypothesis at .05 and .01, but we wanted to know how much lower we can go.\n",
    "\n",
    "We can check z table for 4.67 which gives us the same result as -4.67, but in most tables you would not even find this value as it is so large, thus we round up to the closet value available and get 0.0001, the p-value = <code>1 - 0.9990(number from table) = 0.0001.</code>\n",
    "\n",
    "How do we actually test the hypothesis, well after choosing a significant level of <code>α</code>, you compare the p-value to it.\n",
    "\n",
    "You shoulde reject the null hypothesis that the p-value is lower than the significance level, therefore we can safely say that such a result is extremely significant by any measurement of significance.\n",
    "\n",
    "Example z = 2.12, we will rejetct the null hypothesis at 10% and 5%, but we wouldn't reject it at 1% significance.\n",
    "\n",
    "Use z = 2.12, then we actually look at the table and then find the p-value we look for the value that corresponds to 2.12 and find that it is 0.983.\n",
    "\n",
    "The p-value for one sided test is <code>1 - number from table = 1 - 0.983 = 0.017</code>, the p-value for two sided test is <code>(1 - number from table) * 2 = (1 - 0.0983) * 2 = 0.034.</code>\n",
    "\n",
    "Most statistical software calculates p-value for each test and then provide us with a series results, it is then up two the research to decide whether the variable is statistically significant or not, generally software is designed to calculate the value to the third digit after the separator, the closer to 0 your p-value is the most significant is the result you've obtained and the p-value is an extremely powerful measure as it works for all distributions."
   ]
  },
  {
   "cell_type": "code",
   "execution_count": null,
   "metadata": {},
   "outputs": [],
   "source": []
  }
 ],
 "metadata": {
  "kernelspec": {
   "display_name": "Python 3",
   "language": "python",
   "name": "python3"
  },
  "language_info": {
   "codemirror_mode": {
    "name": "ipython",
    "version": 3
   },
   "file_extension": ".py",
   "mimetype": "text/x-python",
   "name": "python",
   "nbconvert_exporter": "python",
   "pygments_lexer": "ipython3",
   "version": "3.7.4"
  }
 },
 "nbformat": 4,
 "nbformat_minor": 2
}
