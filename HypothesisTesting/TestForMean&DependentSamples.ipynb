{
 "cells": [
  {
   "cell_type": "markdown",
   "metadata": {},
   "source": [
    "# Test For Mean & Dependent Samples"
   ]
  },
  {
   "cell_type": "markdown",
   "metadata": {},
   "source": [
    "Example for 10 peopel and there are levels of magnesium before and after taking the pill for some times and the population is unknown, this time we want to come to a single definite conclusion about the effectiveness of the drug, is it working ?\n",
    "\n",
    "The null hypothesis is the population mean before is greater or equal than the population mean after, that means <code>H0:μB >= μA</code>; the alternative hypothesis is the population mean before is lower than the population mean after, that means <code>H1:μB < μA.</code>\n",
    "\n",
    "We expect the levels of MG to be increasing, therefore this is the alternative hypothesis as we are aiming to reject the null hypothesis.\n",
    "\n",
    "The hypothesis can reorder, the null hypothesis is <code>H0:μB - μA >= 0, it can be D0 >= 0</code>, the alternative hypothesis is <code>H1:D0 < 0</code>, it stands for the hypothesis population mean difference.\n",
    "\n",
    "The data table is below:\n",
    "\n",
    "Patient     |Before    |After    |Difference(B-A)\n",
    "---         |---       |---      |---\n",
    "1           |2.0       |1.7      |0.3\n",
    "2           |1.4       |1.7      |-0.3\n",
    "3           |1.3       |1.8      |-0.5\n",
    "4           |1.1       |1.3      |-0.2\n",
    "5           |1.8       |1.7      |0.1\n",
    "6           |1.6       |1.5      |0.1\n",
    "7           |1.5       |1.6      |-0.1\n",
    "8           |0.7       |1.7      |-1\n",
    "9           |0.9       |1.7      |-0.8\n",
    "10          |1.5       |2.4      |-0.9\n",
    "\n",
    "Calculate the Difference mean, std and std error:\n",
    "\n",
    "Type           |Values\n",
    "---            |---\n",
    "Mean           |-0.33\n",
    "St. deviation  |0.45\n",
    "Standard error |0.14\n",
    "\n",
    "We have small sample and we assume normal distribution of the population and we don't know the variance, so we use t-score and the t-score is -2.29.\n",
    "\n",
    "We don't choose a level for significance, solve this problem with the p-value, in order to find the p-value of this one sided test, we may go to the table and see it is somewhere between 0.025 and 0.01, so the p-value is 0.024.\n",
    "\n",
    "The other value is below:\n",
    "\n",
    "Type           |Values\n",
    "---            |---\n",
    "Mean           |-0.33\n",
    "St. deviation  |0.45\n",
    "Standard error |0.14\n",
    "T-score        |-2.29\n",
    "p-value        |0.024\n",
    "\n",
    "So if the level of significance is 5% and the p-value is 0.024, we can reject the null hypothesis.\n",
    "\n",
    "If the level fo significance is 1% and the p-value is 0.024, we can't reject the null hypothesis, so we have to accept the null hypothesis.\n",
    "\n",
    "The lowest significance level at which we can reject the null hypothesis is 0.024, this is exactly the p-value.\n",
    "\n",
    "It is up to the researcher to choose the level of significance, in this case of the magnesium pill, the researcher should be very cautions, if we can't say the pill works on 1% significance, perhaps it is better to take it back to the laboratory and alternative must test again and increasing sample size always leads to a better study. "
   ]
  },
  {
   "cell_type": "code",
   "execution_count": null,
   "metadata": {},
   "outputs": [],
   "source": []
  }
 ],
 "metadata": {
  "kernelspec": {
   "display_name": "Python 3",
   "language": "python",
   "name": "python3"
  },
  "language_info": {
   "codemirror_mode": {
    "name": "ipython",
    "version": 3
   },
   "file_extension": ".py",
   "mimetype": "text/x-python",
   "name": "python",
   "nbconvert_exporter": "python",
   "pygments_lexer": "ipython3",
   "version": "3.7.4"
  }
 },
 "nbformat": 4,
 "nbformat_minor": 2
}
