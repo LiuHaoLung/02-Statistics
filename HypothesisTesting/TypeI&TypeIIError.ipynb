{
 "cells": [
  {
   "cell_type": "markdown",
   "metadata": {},
   "source": [
    "# Type I & Type II Error"
   ]
  },
  {
   "cell_type": "markdown",
   "metadata": {},
   "source": [
    "#### Type I Error\n",
    "\n",
    "Type I Error is when you reject a true null hypothesis, it is also called the false positive, the probability of making this error is <code>α</code> the level of significance.\n",
    "\n",
    "Since the researcher choose the <code>α</code>, the responsibility for making this error lies solely on you.\n",
    "___\n",
    "\n",
    "#### Type II Error\n",
    "\n",
    "Type II Error is when you accept a false null hyphothesis, it is also called the fasle negative, the probability of making this error is <code>β</code>.\n",
    "\n",
    "<code>β</code> depends mainly on sample size and magnitude of the effect(variance), so if your topic is difficult to test, hard sampling or the effect you are looking for is almost negligible, it is more likely to make this type of error.\n",
    "\n",
    "We should also mention that the probability of rejecting a false null hypothesis is <code>1 - β.</code>\n",
    "\n",
    "This is the researchers goal to reject a false null hypothesis, therefore <code>1 - β</code> is called the power of the test, most often researchers increase the power of the test by increasing the sample size.\n",
    "___\n",
    "\n",
    "#### Status quo\n",
    "\n",
    "Type              |H0 is true        |H0 us false\n",
    "---               |---               |---\n",
    "Accept            |Good              |Type II Error\n",
    "Reject            |Type I Error      |Good\n",
    "\n",
    "___\n",
    "\n",
    "#### Example\n",
    "\n",
    "You are in love with this girl from the other class but are unsure if she likes you.\n",
    "\n",
    "The status quo is : she doesn't like you, so h0 is she doesn't like you back.\n",
    "\n",
    "There are two options:\n",
    "\n",
    "1. If you accept the null hypothesis, you accept the fact she doesn't like you, therefore you do nothing.\n",
    "2. If you reject the null hypothesis, you reject the status quo, therefore you invite her.\n",
    "\n",
    "The true itself also can be two options:\n",
    "\n",
    "1. H0 is true, she doesn't like you.\n",
    "2. H0 is false, she likes you.\n",
    "\n",
    "Generally there are four possible which can be summarized in the same table:\n",
    "\n",
    "Type              |H0 is true           |H0 is false\n",
    "---               |---                  |---\n",
    "Accept            |Do nothing           |Type II Error\n",
    "Reject            |Type I Error         |fall in love"
   ]
  },
  {
   "cell_type": "code",
   "execution_count": null,
   "metadata": {},
   "outputs": [],
   "source": []
  }
 ],
 "metadata": {
  "kernelspec": {
   "display_name": "Python 3",
   "language": "python",
   "name": "python3"
  },
  "language_info": {
   "codemirror_mode": {
    "name": "ipython",
    "version": 3
   },
   "file_extension": ".py",
   "mimetype": "text/x-python",
   "name": "python",
   "nbconvert_exporter": "python",
   "pygments_lexer": "ipython3",
   "version": "3.7.4"
  }
 },
 "nbformat": 4,
 "nbformat_minor": 2
}
