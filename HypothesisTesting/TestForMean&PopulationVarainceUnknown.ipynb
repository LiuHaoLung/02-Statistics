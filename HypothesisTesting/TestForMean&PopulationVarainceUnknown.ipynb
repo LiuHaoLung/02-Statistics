{
 "cells": [
  {
   "cell_type": "markdown",
   "metadata": {},
   "source": [
    "# Test For Mean & Population Varaince Unnown"
   ]
  },
  {
   "cell_type": "markdown",
   "metadata": {},
   "source": [
    "Example for estimate of the email open rate of one of the firm's competitors is above your company's, your company has an open rate of 40% and email open rate is a measure of how many people on the email list actually open the emalis they received.\n",
    "\n",
    "Null hypothesis is mean open rate is lower or equal to 40%, the alternative hypothesis means open rate is higher than 40%, we are aiming to reject the null hypothesis and in this example, we are dealing with one sided test and the 0.05 is an adequate significance level for this test.\n",
    "\n",
    "The sample data is below:\n",
    "\n",
    "ID         |Rate\n",
    "---        |---\n",
    "1          |26%\n",
    "2          |23%\n",
    "3          |42%\n",
    "4          |49%\n",
    "5          |23%\n",
    "6          |59%\n",
    "7          |29%\n",
    "8          |29%\n",
    "9          |57%\n",
    "10         |40%\n",
    "\n",
    "The other value is below:\n",
    "\n",
    "Type                        |Values\n",
    "---                         |---\n",
    "Sample mean                 |37.70%\n",
    "Sample standard deviation   |13.74%\n",
    "Standard error              |4.34%\n",
    "Null hypothesis value       |40%\n",
    "\n",
    "Assume that the population of open rates of said emails is normally distributed, like confidence intervals with variance unknown and small sample, the correct statistic to use is the t-score.\n",
    "\n",
    "Calculate the T-score the same way as the z-score, the T-score formula is <code>T = (x̄ - μ) / (s / (n^0.5)) = (37.70 - 40) / 4.34 = -0.53.</code>\n",
    "\n",
    "We should compare the absolute value of -0.53 with the appropriate t with N - 1 degrees of freedom and 0.05 one-sided significance, look into the t table, we can find the 1.833.\n",
    "\n",
    "So we can know the 0.53 < 1.83, if the absolute value of T-score < critical value t, we can't reject the null hypothesis, so in this case we need to accept the null hypothesis.\n",
    "\n",
    "The other value is below:\n",
    "\n",
    "Type                             |Values\n",
    "---                              |---\n",
    "Sample mean                      |37.70%\n",
    "Sample standard deviation        |13.74%\n",
    "Standard error                   |4.34%\n",
    "Null hypothesis value            |40%\n",
    "T-score                          |-0.53\n",
    "One-sided and 5% significance t  |1.83\n",
    "\n",
    "The p-value of this statistic is 0.304, it is greater than 0.05, we get the same result, we can't reject the null hypothesis, if we can't reject a test at 0.05, we can't reject is at smaller levels either."
   ]
  },
  {
   "cell_type": "code",
   "execution_count": null,
   "metadata": {},
   "outputs": [],
   "source": []
  }
 ],
 "metadata": {
  "kernelspec": {
   "display_name": "Python 3",
   "language": "python",
   "name": "python3"
  },
  "language_info": {
   "codemirror_mode": {
    "name": "ipython",
    "version": 3
   },
   "file_extension": ".py",
   "mimetype": "text/x-python",
   "name": "python",
   "nbconvert_exporter": "python",
   "pygments_lexer": "ipython3",
   "version": "3.7.4"
  }
 },
 "nbformat": 4,
 "nbformat_minor": 2
}
