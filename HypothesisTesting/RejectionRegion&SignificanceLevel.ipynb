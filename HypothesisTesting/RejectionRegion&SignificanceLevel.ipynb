{
 "cells": [
  {
   "cell_type": "markdown",
   "metadata": {},
   "source": [
    "# Rejection Region & Significance Level"
   ]
  },
  {
   "cell_type": "markdown",
   "metadata": {},
   "source": [
    "#### Significance Level\n",
    "\n",
    "The significance level is denoted <code>α</code> and it is the probability of rejecting the null hyphothesis, if it is true.\n",
    "\n",
    "Typical values for <code>α</code> is 0.01, 0.05, 0.1, it is a value that you select based on the certainty you need, in most cases, the choice of <code>α</code> is determined by the context you are operating but 0.05 is the most commonly use value."
   ]
  },
  {
   "cell_type": "markdown",
   "metadata": {},
   "source": [
    "#### Rejection Region\n",
    "\n",
    "Example consulting a university and want to carry out an analysis on how students are performing on average, the population mean grade is 70%, it can't simply agree with this opinion, so start testing.\n",
    "\n",
    "The Null hyphothesis is the population grade is 70%, the alternative hyphothesis is the population grade is not 70%.\n",
    "\n",
    "Assuming that the population of grade is normally distributed, the test we would normally perform is the Z-test, the formula is <code>Z = (x̄ - μ) / (S / (n ^ 0.5)), x̄ is sample mean, μ is hyphothesis mean and devided by the standard error.</code>\n",
    "\n",
    "The idea is the following, we are standardizing or scaling the sample mean, we got if the sample mean is close enough to the hyphothesized mean then Z will be close to 0, otherwise it will be far away from it.\n",
    "\n",
    "Naturally if the sample mean is exactly equal to the hyphothesized mean Z will be 0, in all this cases we would accept the null hyphothesis.\n",
    "\n",
    "So how big should Z be to reject the Null ? \n",
    "\n",
    "Since we conducting a two sided or two tailed test, there are two cut off lines one on each side, when we calculate Z we will get a value, if this value falls into the middle part then we can't reject the null, if it falls outside in the shaded region, then we reject the null hyphothesis, so this shaded part is called rejection region.\n",
    "\n",
    "The area that is cut off actually depends on the significance lever, the level of significance <code>α = 0.05, so the rejection region is α/2 = 0.025.</code>\n",
    "\n",
    "Now use the 0.025 to check the Z table, we can know when <code>α = 0.025</code>, the value is 1.96.\n",
    "\n",
    "On the right side is -1.96, on the left side is 1.96, therefore if the value we get present from the test is lower than -1.96 or higher than 1.96, we will reject the null hyphothesis, otherwise we will accept it.\n",
    "\n",
    "So how does the hyphothesis testing work ?\n",
    "\n",
    "We scale the sample mean with respect to the hyphothesized value, if Z is close to the 0, we can't reject the null, if it far away from the 0, we can reject the null."
   ]
  },
  {
   "cell_type": "code",
   "execution_count": null,
   "metadata": {},
   "outputs": [],
   "source": []
  }
 ],
 "metadata": {
  "kernelspec": {
   "display_name": "Python 3",
   "language": "python",
   "name": "python3"
  },
  "language_info": {
   "codemirror_mode": {
    "name": "ipython",
    "version": 3
   },
   "file_extension": ".py",
   "mimetype": "text/x-python",
   "name": "python",
   "nbconvert_exporter": "python",
   "pygments_lexer": "ipython3",
   "version": "3.7.4"
  }
 },
 "nbformat": 4,
 "nbformat_minor": 2
}
