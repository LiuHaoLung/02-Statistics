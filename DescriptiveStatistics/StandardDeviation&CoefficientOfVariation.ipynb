{
 "cells": [
  {
   "cell_type": "markdown",
   "metadata": {},
   "source": [
    "# Standard Deviation & Coefficient Of Variation"
   ]
  },
  {
   "cell_type": "markdown",
   "metadata": {},
   "source": [
    "#### Standard Deviation\n",
    "\n",
    "In most analyses you perform standard deviation will be much more meaningful than variance.\n",
    "\n",
    "Standard deviation is the most common measure of variability for a single dataset.\n",
    "\n",
    "The standard deviation is denoted by the <code>σ</code> for a population and the <code>s</code> for the sample.\n",
    "___\n",
    "\n",
    "#### Coefficient Of Variation\n",
    "\n",
    "It is equal to the standard deviation divided by the mean, another name for the term is relative standard deviation.\n",
    "\n",
    "When comparing two or more dataser, the coefficient of variation is useful.\n",
    "\n",
    "The coefficient of variaction is also have population formula and sample formula.\n",
    "\n",
    "The population formula is <code> cv = σ / μ</code> and the sample formula is <code> cv = S / x̄</code>.\n",
    "___\n",
    "\n",
    "Example pizza & mexican pesos dollar table is below, and It is a sample, so we have to use the sample formula.\n",
    "\n",
    "Pizza Dollars     |Pesos Dollars\n",
    "---               |----\n",
    "1                 |18.81\n",
    "2                 |37.62\n",
    "3                 |56.43\n",
    "3                 |56.43\n",
    "5                 |94.05\n",
    "6                 |112.86\n",
    "7                 |131.67\n",
    "8                 |150.48\n",
    "9                 |169.29\n",
    "11                |206.91\n",
    "\n",
    "The table is below:\n",
    "\n",
    "Type                           |Pizza Dollars     |Pesos Dollars\n",
    "---                            |---               |---\n",
    "Mean                           |5.5               |103.46\n",
    "Sample variance                |10.72             |3793.69\n",
    "Sample standard deviation      |3.72              |61.59\n",
    "Sample coefficient of variation|0.6               |0.6\n",
    "\n",
    "First variance gives results in squered units while standard deviation in original units, this is the main reason why prefer to use standard deviation is the main measure of varability, because standard deviation is the preferred measure of variability, as it is directly interpretable.\n",
    "\n",
    "Second we got standard deviations of 3.72 and 61.59, the sample Coefficient Of Variation all are 0.6, it is not dollar, it just 0.6, that mean it doesn't have a unit of measurement, through the coefficient of variation we can say that this two dataset have the same variability."
   ]
  },
  {
   "cell_type": "code",
   "execution_count": null,
   "metadata": {},
   "outputs": [],
   "source": []
  }
 ],
 "metadata": {
  "kernelspec": {
   "display_name": "Python 3",
   "language": "python",
   "name": "python3"
  },
  "language_info": {
   "codemirror_mode": {
    "name": "ipython",
    "version": 3
   },
   "file_extension": ".py",
   "mimetype": "text/x-python",
   "name": "python",
   "nbconvert_exporter": "python",
   "pygments_lexer": "ipython3",
   "version": "3.7.4"
  }
 },
 "nbformat": 4,
 "nbformat_minor": 2
}
