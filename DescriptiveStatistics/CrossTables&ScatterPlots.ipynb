{
 "cells": [
  {
   "cell_type": "markdown",
   "metadata": {},
   "source": [
    "# Cross Tables & Scatter Plots"
   ]
  },
  {
   "cell_type": "markdown",
   "metadata": {},
   "source": [
    "### Cross Tables\n",
    "\n",
    "The cross tables can representing categorical variables.\n",
    "\n",
    "Example a investment manager manage stocks, bonds and real estate investments for three different investors.\n",
    "\n",
    "The cross table(contingency table) is below:\n",
    "\n",
    "Type of investment \\ investor |Investor A |Investor B |Investor C |Total\n",
    "---                           |---        |---        |---        |---\n",
    "Stocks                        |96         |185        |39         |320\n",
    "Bonds                         |181        |3          |29         |213\n",
    "Real Estate                   |88         |152        |142        |382\n",
    "Total                         |365        |340        |210        |915\n",
    "\n",
    "This table can clearly see the rows showing the type of investment that's been made and the columns with each investor's allocation.\n",
    "\n",
    "This table is good practice to calculate the totals of each row and column as it is often useful.\n",
    "\n",
    "With this table, the rows can show the total of the different investment, the columns can holding of each investor.\n",
    "\n",
    "Use the cross table, we can create the side-by-side bar chart, this is a variation of the bar chart.\n",
    "\n",
    "All the graph are very easy to create and read, once you have identified the type of data you are dealing with and decided on the best way to visualize it."
   ]
  },
  {
   "cell_type": "markdown",
   "metadata": {},
   "source": [
    "### Scatter Plots\n",
    "\n",
    "The scatter plots can representing two numerical variables.\n",
    "\n",
    "Example SAT score by component range from 200 to 800 points, so in the scatter plots is bounded within the range of 200 to 800.\n",
    "\n",
    "The vertical axis shows the writing score while the horizontal axis contains reading scores.\n",
    "\n",
    "In the scatter plots, each point gives us information about a particular student's performance and it represents lots and lots of observations.\n",
    "\n",
    "When interpreting a scatter plots a statistician is not expected to look into single data points, but will be much more interested in getting the main idea of how the data is distributed."
   ]
  },
  {
   "cell_type": "code",
   "execution_count": null,
   "metadata": {},
   "outputs": [],
   "source": []
  }
 ],
 "metadata": {
  "kernelspec": {
   "display_name": "Python 3",
   "language": "python",
   "name": "python3"
  },
  "language_info": {
   "codemirror_mode": {
    "name": "ipython",
    "version": 3
   },
   "file_extension": ".py",
   "mimetype": "text/x-python",
   "name": "python",
   "nbconvert_exporter": "python",
   "pygments_lexer": "ipython3",
   "version": "3.7.4"
  }
 },
 "nbformat": 4,
 "nbformat_minor": 2
}
