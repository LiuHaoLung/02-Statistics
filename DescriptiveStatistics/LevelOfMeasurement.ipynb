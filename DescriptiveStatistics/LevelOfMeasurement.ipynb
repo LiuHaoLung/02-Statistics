{
 "cells": [
  {
   "cell_type": "markdown",
   "metadata": {},
   "source": [
    "# Level Of Measurement"
   ]
  },
  {
   "cell_type": "markdown",
   "metadata": {},
   "source": [
    "#### Measurement levels can be split into two groups:\n",
    "\n",
    "1. Qualitative.\n",
    "2. Quantitative.\n",
    "___\n",
    "\n",
    "#### Qualitative is ?\n",
    "\n",
    "Nominal                                             |Ordinal\n",
    "---                                                 |---\n",
    "like categories, not numbers and can't ordered      |consists of groups in categories which follow a strict order\n",
    "\n",
    "___\n",
    "\n",
    "#### Quantitative is ?\n",
    "\n",
    "Interval                          |Ratio\n",
    "---                               |---\n",
    "represented by numbers            |represented by numbers\n",
    "doesn't have a true 0             |have a true 0\n"
   ]
  },
  {
   "cell_type": "code",
   "execution_count": null,
   "metadata": {},
   "outputs": [],
   "source": []
  }
 ],
 "metadata": {
  "kernelspec": {
   "display_name": "Python 3",
   "language": "python",
   "name": "python3"
  },
  "language_info": {
   "codemirror_mode": {
    "name": "ipython",
    "version": 3
   },
   "file_extension": ".py",
   "mimetype": "text/x-python",
   "name": "python",
   "nbconvert_exporter": "python",
   "pygments_lexer": "ipython3",
   "version": "3.7.4"
  }
 },
 "nbformat": 4,
 "nbformat_minor": 2
}
