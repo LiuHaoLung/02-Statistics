{
 "cells": [
  {
   "cell_type": "markdown",
   "metadata": {},
   "source": [
    "# Skewness"
   ]
  },
  {
   "cell_type": "markdown",
   "metadata": {},
   "source": [
    "Skewness indicates whether the data is concentrated on one side, and the direction of the skew is counter-intuitive, it is not depend on which side the line is leading to but rather to which side it is tail is leaning to.\n",
    "\n",
    "Skewness tell us a lot about where the data is situated.\n",
    "___\n",
    "\n",
    "#### Example\n",
    "\n",
    "There are three dataset:\n",
    "\n",
    "Dataset table:\n",
    "\n",
    "Dataset1|Dataset2|Dataset3\n",
    "---     |---     |---\n",
    "1       |1       |1\n",
    "1       |1       |2\n",
    "1       |2       |3\n",
    "1       |2       |3\n",
    "2       |3       |4\n",
    "2       |3       |4\n",
    "2       |3       |4\n",
    "2       |4       |5\n",
    "2       |4       |5\n",
    "2       |4       |5\n",
    "3       |4       |5\n",
    "3       |4       |6\n",
    "3       |5       |6\n",
    "3       |5       |6\n",
    "4       |5       |6\n",
    "4       |6       |6\n",
    "5       |6       |6\n",
    "5       |7       |7\n",
    "7       |7       |7\n",
    "-       |-       |7\n",
    "\n",
    "Frequency table:\n",
    "\n",
    "Inverval   |Dataset1|Dataset2|Dataset3\n",
    "---        |---     |---     |---\n",
    "0 to 1     |4       |2       |1\n",
    "1 to 2     |6       |2       |1\n",
    "2 to 3     |4       |3       |2\n",
    "3 to 4     |2       |5       |3\n",
    "4 to 5     |2       |3       |4\n",
    "5 to 6     |0       |2       |6\n",
    "6 to 7     |1       |2       |3\n",
    "\n",
    "Mean, Median and mode table:\n",
    "\n",
    "Dataset    |Mean  |Median  |Mode\n",
    "---        |---   |---     |---\n",
    "Dataset1   |2.79  |2.0     |2.0\n",
    "Dataset2   |4.0   |4.0     |4.0\n",
    "Dataset3   |4.9   |5.0     |6.0\n",
    "\n",
    "___\n",
    "\n",
    "#### Dataset1\n",
    "\n",
    "Dataset1 has a mean ***2.79*** and a median ***2.0*** and the mode ***2.0***, so we can know the mean > median, we say this is a positive or right skew.\n",
    "\n",
    "So from the graph you can clearly see that the data points are concentrated on the left side, so the right skew means that the outliers are to the right.\n",
    "___\n",
    "\n",
    "#### Dataset2\n",
    "\n",
    "Dataset2 has a mean ***4.0*** and a median ***4.0***, so we can know the mean = median, and the mode ***4.0***, so it is completely symmetrical and we call this a zero or no skew.\n",
    "___\n",
    "\n",
    "#### Dataset3\n",
    "\n",
    "Dataset3 has a mean ***4.9*** and a median ***5.0***, so we can know the mean < median, we say this is a negative or left skew.\n",
    "\n",
    "So from the graph you can clearly see that the data points are concentrated on the right side, so the right skew means that the outliers are to the left."
   ]
  },
  {
   "cell_type": "code",
   "execution_count": null,
   "metadata": {},
   "outputs": [],
   "source": []
  }
 ],
 "metadata": {
  "kernelspec": {
   "display_name": "Python 3",
   "language": "python",
   "name": "python3"
  },
  "language_info": {
   "codemirror_mode": {
    "name": "ipython",
    "version": 3
   },
   "file_extension": ".py",
   "mimetype": "text/x-python",
   "name": "python",
   "nbconvert_exporter": "python",
   "pygments_lexer": "ipython3",
   "version": "3.7.4"
  }
 },
 "nbformat": 4,
 "nbformat_minor": 2
}
