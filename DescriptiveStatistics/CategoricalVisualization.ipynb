{
 "cells": [
  {
   "cell_type": "markdown",
   "metadata": {},
   "source": [
    "# Categorical Visualization"
   ]
  },
  {
   "cell_type": "markdown",
   "metadata": {},
   "source": [
    "Visualizing data is the most intuitive way to interpret it, it is much easier to visualize data if you know it's type and measurement lever.\n",
    "___\n",
    "\n",
    "\n",
    "\n",
    "\n",
    "\n",
    "#### Bar charts is ?\n",
    "\n",
    "Use the frequency distribution can draw a bar charts, the vertical axis shows the number of units sold(Frequency), the horizontal axis shows the categorical.\n",
    "___\n",
    "\n",
    "#### Pie charts is ?\n",
    "\n",
    "In order to draw a pie chart, we need to calculate what percentage of the total each brand represents, in statistics it is relative frequency.\n",
    "___\n",
    "\n",
    "#### Pareto diagrams is ?\n",
    "\n",
    "A pareto diagram is a special type of bar chart where categories are shown ind descending order of frequency.\n",
    "\n",
    "So we need to reorder table and draw the pareto diagram, the frequency will become:\n",
    "\n",
    "Categorical     |Frequency     |Relative frequency\n",
    "---             |---           |---\n",
    "Audi            |124           |37%\n",
    "Mercedes        |113           |34%\n",
    "BMW             |98            |29%\n",
    "\n",
    "In the pareto diagram, it will a curve on the same graph, showing the cumulative frequency.\n",
    "\n",
    "The cumulative frequency is the sum of the relative frequency, so the table will become:\n",
    "\n",
    "Categorical     |Frequency     |Relative frequency    |Cumulative frequency\n",
    "---             |---           |---                   |---\n",
    "Audi            |124           |37%                   |37%\n",
    "Mercedes        |113           |34%                   |71%\n",
    "BMW             |98            |29%                   |100%\n",
    "\n",
    "The pareto diagram combines the strong sides of the bar and pie charts and it is easy to compart the data both between catrgories and as a part of the total."
   ]
  },
  {
   "cell_type": "code",
   "execution_count": null,
   "metadata": {},
   "outputs": [],
   "source": []
  }
 ],
 "metadata": {
  "kernelspec": {
   "display_name": "Python 3",
   "language": "python",
   "name": "python3"
  },
  "language_info": {
   "codemirror_mode": {
    "name": "ipython",
    "version": 3
   },
   "file_extension": ".py",
   "mimetype": "text/x-python",
   "name": "python",
   "nbconvert_exporter": "python",
   "pygments_lexer": "ipython3",
   "version": "3.7.4"
  }
 },
 "nbformat": 4,
 "nbformat_minor": 2
}
