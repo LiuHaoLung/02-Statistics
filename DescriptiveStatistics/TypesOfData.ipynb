{
 "cells": [
  {
   "cell_type": "markdown",
   "metadata": {},
   "source": [
    "# Types of Data"
   ]
  },
  {
   "cell_type": "markdown",
   "metadata": {},
   "source": [
    "#### Clasify data:\n",
    "\n",
    "Catagorical                       |Numerical\n",
    "---                               |---\n",
    "describes categories or groups    |numbers\n",
    "\n",
    "___\n",
    "\n",
    "#### Numerical types:\n",
    "\n",
    "Discrete                      |Continuous\n",
    "---                           |---\n",
    "counted in a finite matter    |infinite and impossibel to count\n",
    "grades, number of object, money|weight, hight, distance, area, time"
   ]
  },
  {
   "cell_type": "code",
   "execution_count": null,
   "metadata": {},
   "outputs": [],
   "source": []
  }
 ],
 "metadata": {
  "kernelspec": {
   "display_name": "Python 3",
   "language": "python",
   "name": "python3"
  },
  "language_info": {
   "codemirror_mode": {
    "name": "ipython",
    "version": 3
   },
   "file_extension": ".py",
   "mimetype": "text/x-python",
   "name": "python",
   "nbconvert_exporter": "python",
   "pygments_lexer": "ipython3",
   "version": "3.7.4"
  }
 },
 "nbformat": 4,
 "nbformat_minor": 2
}
