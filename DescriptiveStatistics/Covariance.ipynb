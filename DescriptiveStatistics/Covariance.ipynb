{
 "cells": [
  {
   "cell_type": "markdown",
   "metadata": {},
   "source": [
    "# Covariance"
   ]
  },
  {
   "cell_type": "markdown",
   "metadata": {},
   "source": [
    "Example for the housing data, the data table is below:\n",
    "\n",
    "Size(x)       |Price(y)\n",
    "---           |---\n",
    "650           |772,000\n",
    "785           |998,000\n",
    "1200          |1,200,000\n",
    "720           |800,000\n",
    "975           |895,000\n",
    "\n",
    "This two variables size and price are correlated and the main statistic to measure this correlation is called covariance, the covariance may be positive, equal 0 and negative.\n",
    "\n",
    "The formula allows us to calcultate the covariance between two variables and it is also have population and sample formula.\n",
    "\n",
    "So first we need to calculate the mean size and mean price:\n",
    "\n",
    "Mean size   |Mean price\n",
    "---         |---\n",
    "866         |933,000\n",
    "\n",
    "Then calculate the covariance:\n",
    "\n",
    "Size(x)       |Price(y)        |<code>(x-mean)*(y-mean)</code>\n",
    "---           |---             |---\n",
    "650           |772,000         |34,776,000\n",
    "785           |998,000         |-5,265,000\n",
    "1200          |1,200,000       |89,178,000\n",
    "720           |800,000         |19,418,000\n",
    "975           |895,000         |-4,142,000\n",
    "\n",
    "Find the <code>(x-mean)*(y-mean)</code>, then sum them up, the result is 133,965,000, our sample size is 5, so the <code>133,965,000 / (5 - 1) = 33,491,250</code> and this is covariance.\n",
    "\n",
    "Covariance gives a sense of direction:\n",
    "\n",
    "Type                |Meaning\n",
    "---                 |---\n",
    "positive            |the two variables move together\n",
    "equal 0             |the two variables are independent\n",
    "negative            |the two variables move in opposite directions"
   ]
  },
  {
   "cell_type": "code",
   "execution_count": null,
   "metadata": {},
   "outputs": [],
   "source": []
  }
 ],
 "metadata": {
  "kernelspec": {
   "display_name": "Python 3",
   "language": "python",
   "name": "python3"
  },
  "language_info": {
   "codemirror_mode": {
    "name": "ipython",
    "version": 3
   },
   "file_extension": ".py",
   "mimetype": "text/x-python",
   "name": "python",
   "nbconvert_exporter": "python",
   "pygments_lexer": "ipython3",
   "version": "3.7.4"
  }
 },
 "nbformat": 4,
 "nbformat_minor": 2
}
