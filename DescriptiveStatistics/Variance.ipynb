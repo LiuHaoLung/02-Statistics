{
 "cells": [
  {
   "cell_type": "markdown",
   "metadata": {},
   "source": [
    "# Variance"
   ]
  },
  {
   "cell_type": "markdown",
   "metadata": {},
   "source": [
    "Variance measures the dispersion of a set of data points around theri mean.\n",
    "\n",
    "The variance is denoted by the <code>σ²</code> for a population and the <code>s²</code> for the sample.\n",
    "\n",
    "The closer a number to the mean the lower the result we will obtain.\n",
    "\n",
    "With squaring, the number always get non-negative computations because the dispersion can't be negative, the dispersion is about distance and distance can't be negative, it will amplifies the effect of large differences.\n",
    "___\n",
    "\n",
    "Exampla we have 5 population, and the table is below:\n",
    "\n",
    "Population|\n",
    "---       |\n",
    "1         |\n",
    "2         |\n",
    "3         |\n",
    "4         |\n",
    "5         |\n",
    "\n",
    "If we want to know the variance:\n",
    "\n",
    "First we start by calculation the mean, the mean = 3.\n",
    "\n",
    "Second apply the variance formula = <code>[(1-3)^2 + (2-3)^2 + (3-3)^2 + (4-3)^2 + (5-3)^2] / 5 = 2</code>\n",
    "___\n",
    "\n",
    "Sample variance formula is used when our set of observations is a sample drawn from a bigger population.\n",
    "\n",
    "Example is the same:\n",
    "\n",
    "Population|\n",
    "---       |\n",
    "1         |\n",
    "2         |\n",
    "3         |\n",
    "4         |\n",
    "5         |\n",
    "\n",
    "First we start by calculation the mean, the mean = 3\n",
    "\n",
    "Second apply the variance formula = <code>[(1-3)^2 + (2-3)^2 + (3-3)^2 + (4-3)^2 + (5-3)^2] / 4 = 2.5</code>.\n",
    "___\n",
    "\n",
    "With all result:\n",
    "\n",
    "The whole data is below:\n",
    "\n",
    "Population|\n",
    "---       |\n",
    "1         |\n",
    "2         |\n",
    "3         |\n",
    "4         |\n",
    "5         |\n",
    "\n",
    "The mean and different variance is below:\n",
    "\n",
    "Mean    |Population variance  |Sample variance\n",
    "---     |---                  |---\n",
    "3.0     |2                    |2.5\n",
    "\n",
    "\n",
    "The sample variance is higher than population variance because sample variance has rightfully corrected upwards, in order to reflect the higher potential variability."
   ]
  },
  {
   "cell_type": "code",
   "execution_count": null,
   "metadata": {},
   "outputs": [],
   "source": []
  }
 ],
 "metadata": {
  "kernelspec": {
   "display_name": "Python 3",
   "language": "python",
   "name": "python3"
  },
  "language_info": {
   "codemirror_mode": {
    "name": "ipython",
    "version": 3
   },
   "file_extension": ".py",
   "mimetype": "text/x-python",
   "name": "python",
   "nbconvert_exporter": "python",
   "pygments_lexer": "ipython3",
   "version": "3.7.4"
  }
 },
 "nbformat": 4,
 "nbformat_minor": 2
}
