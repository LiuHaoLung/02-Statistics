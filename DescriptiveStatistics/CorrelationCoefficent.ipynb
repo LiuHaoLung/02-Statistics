{
 "cells": [
  {
   "cell_type": "markdown",
   "metadata": {},
   "source": [
    "# Correlation Coefficent"
   ]
  },
  {
   "cell_type": "markdown",
   "metadata": {},
   "source": [
    "Correlation coefficent adjusts covariance, so that the relationship between the two variables becomes easy and intuitive to interpret.\n",
    "\n",
    "The correlation coefficent between two variables x and y is the same as between y and x.\n",
    "___\n",
    "\n",
    "Example for the housing data, the data table is below:\n",
    "\n",
    "Size(x)       |Price(y)\n",
    "---           |---\n",
    "650           |772,000\n",
    "785           |998,000\n",
    "1200          |1,200,000\n",
    "720           |800,000\n",
    "975           |895,000\n",
    "\n",
    "So first we need to calculate the mean and standard deviation table is below:\n",
    "\n",
    "Type                |size(x)        |price(y)\n",
    "---                 |---            |---\n",
    "Mean                |866            |933,000\n",
    "standard deviation  |222            |173,615\n",
    "\n",
    "Then calculate the covariance:\n",
    "\n",
    "Size(x)       |Price(y)        |<code>(x-mean)*(y-mean)</code>\n",
    "---           |---             |---\n",
    "650           |772,000         |34,776,000\n",
    "785           |998,000         |-5,265,000\n",
    "1200          |1,200,000       |89,178,000\n",
    "720           |800,000         |19,418,000\n",
    "975           |895,000         |-4,142,000\n",
    "\n",
    "Find the <code>(x-mean)*(y-mean)</code>, then sum them up, the result is 133,965,000, our sample size is 5, so the <code>133,965,000 / (5 - 1) = 33,491,250</code> and this is covariance, in order to find the correlation coefficent, the formula is covariance / stdev(x) * stdev(y) = <code>33,491,250 / (222 * 173,615) = 0.87</code>. \n",
    "\n",
    "The correlation coefficent is <code> -1 <= correlation coefficent <= 1</code>, if the correlation coefficent = 1, this mean the entire variability of one variable is explained by the other variable; if the correlation coefficent = 0, this mean they are absolutely independent variables; if the correlation coefficent perfect negative correlation of -1, or the imperfect negative correlation = (-1,0), this mean if one variable is make more money the other won't."
   ]
  },
  {
   "cell_type": "code",
   "execution_count": null,
   "metadata": {},
   "outputs": [],
   "source": []
  }
 ],
 "metadata": {
  "kernelspec": {
   "display_name": "Python 3",
   "language": "python",
   "name": "python3"
  },
  "language_info": {
   "codemirror_mode": {
    "name": "ipython",
    "version": 3
   },
   "file_extension": ".py",
   "mimetype": "text/x-python",
   "name": "python",
   "nbconvert_exporter": "python",
   "pygments_lexer": "ipython3",
   "version": "3.7.4"
  }
 },
 "nbformat": 4,
 "nbformat_minor": 2
}
